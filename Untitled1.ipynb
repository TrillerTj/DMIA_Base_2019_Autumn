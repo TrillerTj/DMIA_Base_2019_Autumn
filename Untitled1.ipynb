{
 "cells": [
  {
   "cell_type": "code",
   "execution_count": 30,
   "metadata": {},
   "outputs": [],
   "source": [
    "def primes2(n):\n",
    "    \"\"\" Input n>=6, Returns a list of primes, 2 <= p < n \"\"\"\n",
    "    n, correction = n-n%6+6, 2-(n%6>1)\n",
    "    sieve = [True] * (n//3)\n",
    "    for i in range(1,int(n**0.5)//3+1):\n",
    "      if sieve[i]:\n",
    "        k=3*i+1|1\n",
    "        sieve[      k*k//3      ::2*k] = [False] * ((n//6-k*k//6-1)//k+1)\n",
    "        sieve[k*(k-2*(i&1)+4)//3::2*k] = [False] * ((n//6-k*(k-2*(i&1)+4)//6-1)//k+1)\n",
    "    return [2,3] + [3*i+1|1 for i in range(1,n//3-correction) if sieve[i]]"
   ]
  },
  {
   "cell_type": "code",
   "execution_count": 34,
   "metadata": {},
   "outputs": [
    {
     "data": {
      "text/plain": [
       "0.05761455"
      ]
     },
     "execution_count": 34,
     "metadata": {},
     "output_type": "execute_result"
    }
   ],
   "source": [
    "len(primes2(100000000))/100000000"
   ]
  },
  {
   "cell_type": "code",
   "execution_count": null,
   "metadata": {},
   "outputs": [],
   "source": []
  }
 ],
 "metadata": {
  "kernelspec": {
   "display_name": "Python 3",
   "language": "python",
   "name": "python3"
  },
  "language_info": {
   "codemirror_mode": {
    "name": "ipython",
    "version": 3
   },
   "file_extension": ".py",
   "mimetype": "text/x-python",
   "name": "python",
   "nbconvert_exporter": "python",
   "pygments_lexer": "ipython3",
   "version": "3.7.3"
  }
 },
 "nbformat": 4,
 "nbformat_minor": 2
}
